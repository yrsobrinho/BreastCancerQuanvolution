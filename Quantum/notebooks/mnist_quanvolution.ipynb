{
 "cells": [
  {
   "cell_type": "code",
   "execution_count": 3,
   "metadata": {},
   "outputs": [
    {
     "ename": "ImportError",
     "evalue": "cannot import name 'QuanvolutionModel' from 'quantum_models' (/home/eflammere/QuantumIC/Quantum/notebooks/quantum_models.py)",
     "output_type": "error",
     "traceback": [
      "\u001b[0;31m---------------------------------------------------------------------------\u001b[0m",
      "\u001b[0;31mImportError\u001b[0m                               Traceback (most recent call last)",
      "Cell \u001b[0;32mIn[3], line 9\u001b[0m\n\u001b[1;32m      6\u001b[0m \u001b[38;5;28;01mimport\u001b[39;00m \u001b[38;5;21;01mtorchvision\u001b[39;00m\u001b[38;5;21;01m.\u001b[39;00m\u001b[38;5;21;01mtransforms\u001b[39;00m \u001b[38;5;28;01mas\u001b[39;00m \u001b[38;5;21;01mtransforms\u001b[39;00m\n\u001b[1;32m      7\u001b[0m \u001b[38;5;28;01mimport\u001b[39;00m \u001b[38;5;21;01mtorch\u001b[39;00m\u001b[38;5;21;01m.\u001b[39;00m\u001b[38;5;21;01mnn\u001b[39;00m\u001b[38;5;21;01m.\u001b[39;00m\u001b[38;5;21;01mfunctional\u001b[39;00m \u001b[38;5;28;01mas\u001b[39;00m \u001b[38;5;21;01mF\u001b[39;00m\n\u001b[0;32m----> 9\u001b[0m \u001b[38;5;28;01mfrom\u001b[39;00m \u001b[38;5;21;01mquantum_models\u001b[39;00m \u001b[38;5;28;01mimport\u001b[39;00m QuanvolutionModel\n\u001b[1;32m     11\u001b[0m \u001b[38;5;28;01mimport\u001b[39;00m \u001b[38;5;21;01mmedmnist\u001b[39;00m\n\u001b[1;32m     12\u001b[0m \u001b[38;5;28;01mfrom\u001b[39;00m \u001b[38;5;21;01mmedmnist\u001b[39;00m \u001b[38;5;28;01mimport\u001b[39;00m BreastMNIST\n",
      "\u001b[0;31mImportError\u001b[0m: cannot import name 'QuanvolutionModel' from 'quantum_models' (/home/eflammere/QuantumIC/Quantum/notebooks/quantum_models.py)"
     ]
    }
   ],
   "source": [
    "import numpy as np\n",
    "import torch\n",
    "import torch.nn as nn\n",
    "import torch.optim as optim\n",
    "import torch.utils.data as data\n",
    "import torchvision.transforms as transforms\n",
    "import torch.nn.functional as F\n",
    "\n",
    "from quantum_models import QuanvolutionModel\n",
    "\n",
    "import medmnist\n",
    "from medmnist import BreastMNIST\n",
    "from medmnist import INFO, Evaluator\n",
    "\n",
    "import pennylane as qml\n",
    "\n",
    "import seaborn as sns\n",
    "import matplotlib.pyplot as plt\n",
    "from sklearn.metrics import accuracy_score, precision_score, recall_score, f1_score, confusion_matrix"
   ]
  },
  {
   "cell_type": "code",
   "execution_count": 40,
   "metadata": {},
   "outputs": [
    {
     "name": "stdout",
     "output_type": "stream",
     "text": [
      "Using: NVIDIA GeForce RTX 4070 Ti SUPER\n",
      "CUDA: 12.4\n"
     ]
    }
   ],
   "source": [
    "device = torch.device(\"cuda\" if torch.cuda.is_available() else \"cpu\")\n",
    "if torch.cuda.is_available():\n",
    "    print(f\"Using: {torch.cuda.get_device_name(0)}\")\n",
    "    print(f\"CUDA: {torch.version.cuda}\")\n",
    "else:\n",
    "    print(\"CUDA is not available. Using CPU.\")"
   ]
  },
  {
   "cell_type": "code",
   "execution_count": 41,
   "metadata": {},
   "outputs": [
    {
     "name": "stdout",
     "output_type": "stream",
     "text": [
      "Number of classes: 2\n"
     ]
    }
   ],
   "source": [
    "info = INFO['breastmnist']\n",
    "data_flag = 'breastmnist'\n",
    "DataClass = BreastMNIST\n",
    "\n",
    "task = info['task']  \n",
    "n_channels = info['n_channels']\n",
    "n_classes = len(info['label'])\n",
    "\n",
    "print(f\"Number of classes:\", n_classes)\n",
    "\n",
    "transform = transforms.Compose([\n",
    "    transforms.ToTensor(),\n",
    "    transforms.Normalize(mean=[.5], std=[.5]),\n",
    "    lambda x: x.unsqueeze(0) \n",
    "])"
   ]
  },
  {
   "cell_type": "markdown",
   "metadata": {},
   "source": [
    "### **Dataset Configuration for 28x28 and 64x64 Images**\n",
    "\n",
    "In the following code, the dataset is configured to use images of size 28x28, which is the default setting for the BreastMNIST dataset (and other similar datasets like MedMNIST). "
   ]
  },
  {
   "cell_type": "code",
   "execution_count": 42,
   "metadata": {},
   "outputs": [],
   "source": [
    "data_train28 = DataClass(split='train', transform=transform, download=True)\n",
    "data_test28 = DataClass(split='test', transform=transform, download=True)\n",
    "data_eval28 = DataClass(split='val', transform=transform, download=True)"
   ]
  },
  {
   "cell_type": "markdown",
   "metadata": {},
   "source": [
    "For the case where you want to use images of size 64x64, the code can be adjusted to load the dataset with this specific size by setting the `size` parameter to 64."
   ]
  },
  {
   "cell_type": "code",
   "execution_count": 43,
   "metadata": {},
   "outputs": [
    {
     "name": "stdout",
     "output_type": "stream",
     "text": [
      "Using downloaded and verified file: /home/eflammere/.medmnist/breastmnist_64.npz\n",
      "Using downloaded and verified file: /home/eflammere/.medmnist/breastmnist_64.npz\n",
      "Using downloaded and verified file: /home/eflammere/.medmnist/breastmnist_64.npz\n"
     ]
    }
   ],
   "source": [
    "data_train64 = DataClass(split='train', transform=transform, download=True, size=64)\n",
    "data_test64 = DataClass(split='test', transform=transform, download=True, size=64)\n",
    "data_eval64 = DataClass(split='val', transform=transform, download=True, size=64)"
   ]
  },
  {
   "cell_type": "markdown",
   "metadata": {},
   "source": [
    "The following code snippet demonstrates how to load the training, test, and validation splits of the dataset:\n"
   ]
  },
  {
   "cell_type": "code",
   "execution_count": 44,
   "metadata": {},
   "outputs": [
    {
     "name": "stdout",
     "output_type": "stream",
     "text": [
      "\n",
      "Number of images in training dataset: 546\n",
      "Number of images in test dataset: 156\n",
      "Number of images in validation dataset: 78\n"
     ]
    }
   ],
   "source": [
    "batch_size = 128  \n",
    "dataloader_train = data.DataLoader(dataset=data_train64, batch_size=batch_size, shuffle=True)\n",
    "dataloader_test = data.DataLoader(dataset=data_test64, batch_size=batch_size, shuffle=False)\n",
    "dataloader_eval = data.DataLoader(dataset=data_eval64, batch_size=batch_size, shuffle=False)\n",
    "\n",
    "print(f\"\\nNumber of images in training dataset: {len(data_train64)}\")\n",
    "print(f\"Number of images in test dataset: {len(data_test64)}\")\n",
    "print(f\"Number of images in validation dataset: {len(data_eval64)}\")\n"
   ]
  },
  {
   "cell_type": "markdown",
   "metadata": {},
   "source": []
  },
  {
   "cell_type": "code",
   "execution_count": 45,
   "metadata": {},
   "outputs": [],
   "source": []
  },
  {
   "cell_type": "code",
   "execution_count": 46,
   "metadata": {},
   "outputs": [],
   "source": [
    "model = QuanvolutionModel().to(device)\n",
    "optimizer = torch.optim.Adam(model.parameters(), lr=0.01)\n",
    "criterion = nn.CrossEntropyLoss().to(device)\n",
    "epochs = 10"
   ]
  },
  {
   "cell_type": "code",
   "execution_count": null,
   "metadata": {},
   "outputs": [
    {
     "name": "stdout",
     "output_type": "stream",
     "text": [
      "Epoch 1 Batch 1/5 Loss: 2.3907\n",
      "Epoch 1 Batch 2/5 Loss: 1.1893\n"
     ]
    }
   ],
   "source": [
    "for epoch in range(epochs): \n",
    "    model.train()\n",
    "    total_loss = 0.0\n",
    "    all_labels = []\n",
    "    all_predictions = []\n",
    "\n",
    "    for batch_idx, (images, labels) in enumerate(dataloader_train, 1):\n",
    "        images, labels = images.squeeze(1).to(device), labels.squeeze().to(device)\n",
    "\n",
    "        optimizer.zero_grad()\n",
    "        output = model(images)\n",
    "        loss = criterion(output, labels)\n",
    "        loss.backward()\n",
    "        optimizer.step()\n",
    "\n",
    "        total_loss += loss.item()\n",
    "        all_labels.append(labels)\n",
    "        all_predictions.append(output)\n",
    "\n",
    "        print(f\"Epoch {epoch+1} Batch {batch_idx}/{len(dataloader_train)} Loss: {loss.item():.4f}\")\n",
    "\n",
    "    print(f\"Epoch {epoch+1} Training Loss: {total_loss / len(dataloader_train):.4f}\")\n"
   ]
  },
  {
   "cell_type": "code",
   "execution_count": 26,
   "metadata": {},
   "outputs": [
    {
     "name": "stdout",
     "output_type": "stream",
     "text": [
      "Validation Loss: 0.4136\n",
      "Validation Accuracy: 0.7949\n",
      "Validation Precision: 0.7949\n",
      "Validation Recall: 0.7949\n",
      "Validation F1 Score: 0.7949\n"
     ]
    }
   ],
   "source": [
    "val_loss = 0.0\n",
    "val_labels = []\n",
    "val_predictions = []\n",
    "\n",
    "model.eval() \n",
    "\n",
    "with torch.no_grad():\n",
    "    for images, labels in dataloader_eval:\n",
    "        images, labels = images.squeeze(1).to(device), labels.squeeze().to(device)\n",
    "        output = model(images)\n",
    "        loss = criterion(output, labels)\n",
    "\n",
    "        val_loss += loss.item()\n",
    "        val_labels.append(labels)\n",
    "        val_predictions.append(output)\n",
    "\n",
    "val_labels = torch.cat(val_labels)\n",
    "val_predictions = torch.cat(val_predictions)\n",
    "val_accuracy = accuracy_score(val_labels.cpu().numpy(), val_predictions.argmax(dim=1).cpu().numpy())\n",
    "val_precision = precision_score(val_labels.cpu().numpy(), val_predictions.argmax(dim=1).cpu().numpy(), average=\"weighted\", zero_division=0)\n",
    "val_recall = recall_score(val_labels.cpu().numpy(), val_predictions.argmax(dim=1).cpu().numpy(), average=\"weighted\", zero_division=0)\n",
    "val_f1 = f1_score(val_labels.cpu().numpy(), val_predictions.argmax(dim=1).cpu().numpy(), average=\"weighted\", zero_division=0)\n",
    "\n",
    "print(f\"Validation Loss: {val_loss / len(dataloader_eval):.4f}\")\n",
    "print(f\"Validation Accuracy: {val_accuracy:.4f}\")\n",
    "print(f\"Validation Precision: {val_precision:.4f}\")\n",
    "print(f\"Validation Recall: {val_recall:.4f}\")\n",
    "print(f\"Validation F1 Score: {val_f1:.4f}\")"
   ]
  },
  {
   "cell_type": "code",
   "execution_count": null,
   "metadata": {},
   "outputs": [
    {
     "name": "stdout",
     "output_type": "stream",
     "text": [
      "\n",
      "Final Test Evaluation:\n",
      "Test Loss: 0.5170\n",
      "Test Accuracy: 0.8141\n",
      "Test Precision: 0.8127\n",
      "Test Recall: 0.8141\n",
      "Test F1 Score: 0.8134\n"
     ]
    }
   ],
   "source": [
    "test_loss = 0.0\n",
    "test_labels = []\n",
    "test_predictions = []\n",
    "\n",
    "model.eval()\n",
    "\n",
    "with torch.no_grad():\n",
    "    for images, labels in dataloader_test:\n",
    "        images, labels = images.squeeze(1).to(device), labels.squeeze().to(device)\n",
    "        output = model(images)\n",
    "        loss = criterion(output, labels)\n",
    "\n",
    "        test_loss += loss.item()\n",
    "        test_labels.append(labels)\n",
    "        test_predictions.append(output)\n",
    "\n",
    "test_labels = torch.cat(test_labels)\n",
    "test_predictions = torch.cat(test_predictions)\n",
    "test_accuracy = accuracy_score(test_labels.cpu().numpy(), test_predictions.argmax(dim=1).cpu().numpy())\n",
    "test_precision = precision_score(test_labels.cpu().numpy(), test_predictions.argmax(dim=1).cpu().numpy(), average=\"weighted\", zero_division=0)\n",
    "test_recall = recall_score(test_labels.cpu().numpy(), test_predictions.argmax(dim=1).cpu().numpy(), average=\"weighted\", zero_division=0)\n",
    "test_f1 = f1_score(test_labels.cpu().numpy(), test_predictions.argmax(dim=1).cpu().numpy(), average=\"weighted\", zero_division=0)\n",
    "\n",
    "print(\"\\nFinal Test Evaluation:\")\n",
    "print(f\"Test Loss: {test_loss / len(dataloader_test):.4f}\")\n",
    "print(f\"Test Accuracy: {test_accuracy:.4f}\")\n",
    "print(f\"Test Precision: {test_precision:.4f}\")\n",
    "print(f\"Test Recall: {test_recall:.4f}\")\n",
    "print(f\"Test F1 Score: {test_f1:.4f}\")\n"
   ]
  },
  {
   "cell_type": "code",
   "execution_count": null,
   "metadata": {},
   "outputs": [
    {
     "data": {
      "image/png": "[encoded data removed]",
      "text/plain": [
       "<Figure size 800x600 with 2 Axes>"
      ]
     },
     "metadata": {},
     "output_type": "display_data"
    }
   ],
   "source": [
    "cm = confusion_matrix(test_labels.cpu().numpy(), test_predictions.argmax(dim=1).cpu().numpy(), labels=[0, 1])\n",
    "plt.figure(figsize=(8, 6))\n",
    "sns.heatmap(cm, annot=True, fmt='d', cmap='Blues', xticklabels=['Negative', 'Positive'], yticklabels=['Negative', 'Positive'])\n",
    "plt.xlabel('Predicted Labels')\n",
    "plt.ylabel('True Labels')\n",
    "plt.show()"
   ]
  }
 ],
 "metadata": {
  "kernelspec": {
   "display_name": "quantumEnvironment",
   "language": "python",
   "name": "python3"
  },
  "language_info": {
   "codemirror_mode": {
    "name": "ipython",
    "version": 3
   },
   "file_extension": ".py",
   "mimetype": "text/x-python",
   "name": "python",
   "nbconvert_exporter": "python",
   "pygments_lexer": "ipython3",
   "version": "3.12.3"
  }
 },
 "nbformat": 4,
 "nbformat_minor": 2
}
